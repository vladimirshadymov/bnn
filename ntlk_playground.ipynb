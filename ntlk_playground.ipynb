{
 "cells": [
  {
   "cell_type": "code",
   "execution_count": 1,
   "metadata": {},
   "outputs": [],
   "source": [
    "import nltk\n",
    "from nltk.corpus import treebank\n",
    "from nltk.tokenize import sent_tokenize, word_tokenize\n",
    "import os\n",
    "from torch import nn\n",
    "from torch import optim\n",
    "import math\n",
    "import torch\n",
    "import torch.nn.functional as F\n",
    "from tqdm import tqdm_notebook as tqdm"
   ]
  },
  {
   "cell_type": "code",
   "execution_count": 2,
   "metadata": {},
   "outputs": [
    {
     "name": "stderr",
     "output_type": "stream",
     "text": [
      "[nltk_data] Downloading package treebank to\n",
      "[nltk_data]     /home/vladimir/Workspace/bnn/data/nltk_data...\n",
      "[nltk_data]   Package treebank is already up-to-date!\n"
     ]
    }
   ],
   "source": [
    "cwd = os.getcwd()\n",
    "nltk.download('treebank', download_dir=cwd+'/data/nltk_data')\n",
    "nltk.data.path.append(cwd+'/data/nltk_data')"
   ]
  },
  {
   "cell_type": "code",
   "execution_count": 3,
   "metadata": {},
   "outputs": [
    {
     "data": {
      "text/plain": [
       "[('Pierre', 'NNP'), ('Vinken', 'NNP'), (',', ','), ...]"
      ]
     },
     "execution_count": 3,
     "metadata": {},
     "output_type": "execute_result"
    }
   ],
   "source": [
    "treebank.tagged_words()"
   ]
  },
  {
   "cell_type": "code",
   "execution_count": 4,
   "metadata": {},
   "outputs": [
    {
     "data": {
      "text/plain": [
       "3914"
      ]
     },
     "execution_count": 4,
     "metadata": {},
     "output_type": "execute_result"
    }
   ],
   "source": [
    "len(treebank.tagged_sents())"
   ]
  },
  {
   "cell_type": "code",
   "execution_count": 5,
   "metadata": {},
   "outputs": [],
   "source": [
    "data = []\n",
    "treebank.tagged_sents()[0]\n",
    "for tagged_sent in treebank.tagged_sents():\n",
    "    sent = []\n",
    "    tags = []\n",
    "    for word, tag in tagged_sent:\n",
    "        sent.append(word)\n",
    "        tags.append(tag)\n",
    "    data.append((sent, tags))"
   ]
  },
  {
   "cell_type": "code",
   "execution_count": 6,
   "metadata": {},
   "outputs": [
    {
     "name": "stdout",
     "output_type": "stream",
     "text": [
      "Sentenses in training set: 3131\n",
      "Sentenses in test set: 783\n"
     ]
    }
   ],
   "source": [
    "TRAIN_PRCENT = 80\n",
    "training_data = data[:len(data)*TRAIN_PRCENT//100]\n",
    "test_data = data[len(data)*TRAIN_PRCENT//100:]\n",
    "print(\"Sentenses in training set:\",len(training_data))\n",
    "print(\"Sentenses in test set:\", len(test_data))"
   ]
  },
  {
   "cell_type": "code",
   "execution_count": 7,
   "metadata": {},
   "outputs": [],
   "source": [
    "word_to_idx = {}\n",
    "tag_to_idx = {}\n",
    "for word, tag in treebank.tagged_words():\n",
    "    if word not in word_to_idx:\n",
    "        word_to_idx[word] = len(word_to_idx)\n",
    "    if tag not in tag_to_idx:\n",
    "        tag_to_idx[tag] = len(tag_to_idx)"
   ]
  },
  {
   "cell_type": "code",
   "execution_count": 8,
   "metadata": {},
   "outputs": [],
   "source": [
    "def prepare_sequence(seq, to_ix):\n",
    "    idxs = [to_ix[w] for w in seq]\n",
    "    return torch.tensor(idxs, dtype=torch.long)"
   ]
  },
  {
   "cell_type": "code",
   "execution_count": 9,
   "metadata": {},
   "outputs": [
    {
     "data": {
      "text/plain": [
       "46"
      ]
     },
     "execution_count": 9,
     "metadata": {},
     "output_type": "execute_result"
    }
   ],
   "source": [
    "len(tag_to_idx)"
   ]
  },
  {
   "cell_type": "code",
   "execution_count": 10,
   "metadata": {},
   "outputs": [
    {
     "data": {
      "text/plain": [
       "12408"
      ]
     },
     "execution_count": 10,
     "metadata": {},
     "output_type": "execute_result"
    }
   ],
   "source": [
    "len(word_to_idx)"
   ]
  },
  {
   "cell_type": "code",
   "execution_count": 11,
   "metadata": {},
   "outputs": [],
   "source": [
    "EMBEDDING_DIM = 300\n",
    "HIDDEN_DIM = 200"
   ]
  },
  {
   "cell_type": "code",
   "execution_count": 12,
   "metadata": {},
   "outputs": [],
   "source": [
    "class LSTMTagger(nn.Module):\n",
    "\n",
    "    def __init__(self, embedding_dim, hidden_dim, vocab_size, tagset_size):\n",
    "        super(LSTMTagger, self).__init__()\n",
    "        self.hidden_dim = hidden_dim\n",
    "\n",
    "        self.word_embeddings = nn.Embedding(vocab_size, embedding_dim)\n",
    "\n",
    "        # The LSTM takes word embeddings as inputs, and outputs hidden states\n",
    "        # with dimensionality hidden_dim.\n",
    "        self.lstm = nn.LSTM(embedding_dim, hidden_dim)\n",
    "\n",
    "        # The linear layer that maps from hidden state space to tag space\n",
    "        self.hidden2tag = nn.Linear(hidden_dim, tagset_size)\n",
    "\n",
    "    def forward(self, sentence):\n",
    "        embeds = self.word_embeddings(sentence)\n",
    "        lstm_out, _ = self.lstm(embeds.view(len(sentence), 1, -1))\n",
    "        tag_space = self.hidden2tag(lstm_out.view(len(sentence), -1))\n",
    "        tag_scores = F.log_softmax(tag_space, dim=1)\n",
    "        return tag_scores"
   ]
  },
  {
   "cell_type": "code",
   "execution_count": 18,
   "metadata": {},
   "outputs": [],
   "source": [
    "model = LSTMTagger(EMBEDDING_DIM, HIDDEN_DIM, len(word_to_idx), len(tag_to_idx))\n",
    "loss_function = nn.NLLLoss()\n",
    "optimizer = optim.SGD(model.parameters(), lr=0.1)"
   ]
  },
  {
   "cell_type": "code",
   "execution_count": 21,
   "metadata": {},
   "outputs": [
    {
     "data": {
      "application/vnd.jupyter.widget-view+json": {
       "model_id": "4c1b798076554f958cfa7feb17296c99",
       "version_major": 2,
       "version_minor": 0
      },
      "text/plain": [
       "HBox(children=(IntProgress(value=0, max=5), HTML(value='')))"
      ]
     },
     "metadata": {},
     "output_type": "display_data"
    },
    {
     "name": "stdout",
     "output_type": "stream",
     "text": [
      "tensor([[-3.1419e-02, -9.7085e+00, -6.7459e+00, -4.6970e+00, -6.1373e+00,\n",
      "         -7.4405e+00, -8.5361e+00, -9.3167e+00, -4.9332e+00, -1.0355e+01,\n",
      "         -9.6318e+00, -8.2196e+00, -9.1874e+00, -8.2341e+00, -8.6118e+00,\n",
      "         -9.5217e+00, -9.6572e+00, -5.9154e+00, -1.0521e+01, -7.1255e+00,\n",
      "         -9.8906e+00, -9.6603e+00, -8.9358e+00, -9.8526e+00, -9.4892e+00,\n",
      "         -9.0704e+00, -9.5246e+00, -1.0336e+01, -9.4239e+00, -9.4228e+00,\n",
      "         -9.4124e+00, -1.0245e+01, -1.0045e+01, -8.2837e+00, -9.5789e+00,\n",
      "         -5.5713e+00, -9.3702e+00, -9.5667e+00, -9.8943e+00, -9.1967e+00,\n",
      "         -1.0472e+01, -9.6066e+00, -1.0013e+01, -9.7150e+00, -8.7808e+00,\n",
      "         -1.0006e+01],\n",
      "        [-1.6940e-02, -1.3448e+01, -6.6455e+00, -8.5861e+00, -1.0640e+01,\n",
      "         -1.0825e+01, -9.1086e+00, -1.3483e+01, -9.9356e+00, -1.3109e+01,\n",
      "         -1.1823e+01, -4.4056e+00, -9.9120e+00, -1.1941e+01, -7.8904e+00,\n",
      "         -1.0478e+01, -8.3229e+00, -9.9537e+00, -1.2098e+01, -8.5656e+00,\n",
      "         -1.0741e+01, -1.2141e+01, -6.5030e+00, -1.1718e+01, -1.1210e+01,\n",
      "         -9.9238e+00, -1.2341e+01, -1.2938e+01, -1.2212e+01, -1.2047e+01,\n",
      "         -1.1027e+01, -1.1015e+01, -1.0361e+01, -9.0438e+00, -1.3008e+01,\n",
      "         -9.6343e+00, -1.2258e+01, -1.1188e+01, -1.3393e+01, -1.1687e+01,\n",
      "         -1.2558e+01, -1.1973e+01, -1.2350e+01, -1.2457e+01, -1.0525e+01,\n",
      "         -1.2392e+01],\n",
      "        [-1.1402e+01, -1.9455e-04, -1.2376e+01, -1.8452e+01, -1.1693e+01,\n",
      "         -1.4362e+01, -1.5953e+01, -1.6883e+01, -1.4536e+01, -1.3519e+01,\n",
      "         -1.7782e+01, -1.0723e+01, -1.2632e+01, -1.3495e+01, -1.0343e+01,\n",
      "         -1.3195e+01, -1.6092e+01, -9.5569e+00, -1.8353e+01, -1.1387e+01,\n",
      "         -1.6377e+01, -1.2878e+01, -1.2623e+01, -1.7900e+01, -1.5815e+01,\n",
      "         -1.3966e+01, -1.7972e+01, -1.4640e+01, -1.7729e+01, -1.3366e+01,\n",
      "         -1.1586e+01, -1.5328e+01, -1.8316e+01, -1.4724e+01, -1.4100e+01,\n",
      "         -1.2574e+01, -1.4982e+01, -1.4203e+01, -1.6168e+01, -1.6059e+01,\n",
      "         -1.5121e+01, -1.5565e+01, -1.6467e+01, -1.6524e+01, -1.4966e+01,\n",
      "         -1.5830e+01],\n",
      "        [-4.1160e+00, -6.1339e+00, -2.7605e-02, -7.6135e+00, -7.0382e+00,\n",
      "         -7.1264e+00, -7.9123e+00, -1.1943e+01, -9.8471e+00, -1.3328e+01,\n",
      "         -9.1481e+00, -8.5164e+00, -9.9045e+00, -8.7386e+00, -6.3615e+00,\n",
      "         -6.0926e+00, -1.0112e+01, -8.7510e+00, -1.1858e+01, -9.8556e+00,\n",
      "         -1.0035e+01, -9.2062e+00, -1.0787e+01, -1.1524e+01, -9.8028e+00,\n",
      "         -9.7121e+00, -1.3588e+01, -1.1342e+01, -1.2244e+01, -1.0739e+01,\n",
      "         -9.8321e+00, -1.1026e+01, -9.9425e+00, -1.0549e+01, -8.7766e+00,\n",
      "         -7.6871e+00, -9.9428e+00, -1.0394e+01, -9.8238e+00, -1.0939e+01,\n",
      "         -1.1808e+01, -1.0674e+01, -1.1421e+01, -1.2289e+01, -1.0085e+01,\n",
      "         -9.7181e+00],\n",
      "        [-9.8668e+00, -1.6213e+01, -9.6656e+00, -1.7357e-04, -1.1591e+01,\n",
      "         -1.4376e+01, -1.4823e+01, -1.4343e+01, -1.5344e+01, -1.5099e+01,\n",
      "         -1.6014e+01, -1.2594e+01, -1.2578e+01, -1.6034e+01, -1.3692e+01,\n",
      "         -1.5249e+01, -1.2565e+01, -1.5040e+01, -1.7561e+01, -1.2100e+01,\n",
      "         -1.5197e+01, -1.5321e+01, -1.6069e+01, -1.3891e+01, -1.4513e+01,\n",
      "         -1.2480e+01, -1.6154e+01, -1.5955e+01, -1.7367e+01, -1.7100e+01,\n",
      "         -1.5315e+01, -1.4517e+01, -1.2250e+01, -1.3726e+01, -1.6094e+01,\n",
      "         -1.1125e+01, -1.6118e+01, -1.6263e+01, -1.6786e+01, -1.5369e+01,\n",
      "         -1.5384e+01, -1.5670e+01, -1.6344e+01, -1.6903e+01, -1.5926e+01,\n",
      "         -1.5086e+01],\n",
      "        [-9.4569e+00, -1.2830e+01, -1.1055e+01, -1.2516e+01, -1.5860e-03,\n",
      "         -1.1268e+01, -1.4490e+01, -1.5689e+01, -1.2169e+01, -7.5536e+00,\n",
      "         -1.5600e+01, -1.1876e+01, -9.3756e+00, -9.3711e+00, -1.1426e+01,\n",
      "         -8.5051e+00, -1.3634e+01, -9.0948e+00, -1.5176e+01, -1.1757e+01,\n",
      "         -1.0365e+01, -1.3021e+01, -1.0731e+01, -1.0579e+01, -1.3783e+01,\n",
      "         -9.8166e+00, -1.2063e+01, -1.5118e+01, -1.5368e+01, -1.3606e+01,\n",
      "         -1.3959e+01, -1.3775e+01, -8.9877e+00, -1.1634e+01, -1.4208e+01,\n",
      "         -8.8834e+00, -1.3877e+01, -1.3537e+01, -1.3952e+01, -1.3275e+01,\n",
      "         -1.3358e+01, -1.3870e+01, -1.4250e+01, -1.5415e+01, -1.3538e+01,\n",
      "         -1.3974e+01],\n",
      "        [-1.3981e+01, -6.0081e-05, -1.4395e+01, -1.6282e+01, -1.1170e+01,\n",
      "         -1.3725e+01, -1.7532e+01, -1.9042e+01, -1.5562e+01, -1.2081e+01,\n",
      "         -2.0262e+01, -1.2634e+01, -1.2814e+01, -1.2872e+01, -1.1352e+01,\n",
      "         -1.3085e+01, -1.7833e+01, -1.2586e+01, -2.0341e+01, -1.3108e+01,\n",
      "         -1.7328e+01, -1.3625e+01, -1.4468e+01, -1.8551e+01, -1.7949e+01,\n",
      "         -1.4351e+01, -1.8848e+01, -1.4886e+01, -1.9759e+01, -1.4609e+01,\n",
      "         -1.3248e+01, -1.6982e+01, -1.8193e+01, -1.5963e+01, -1.4895e+01,\n",
      "         -1.2457e+01, -1.6213e+01, -1.6284e+01, -1.6831e+01, -1.7685e+01,\n",
      "         -1.5699e+01, -1.6784e+01, -1.7873e+01, -1.8073e+01, -1.6860e+01,\n",
      "         -1.6535e+01],\n",
      "        [-1.4643e+01, -1.3328e+01, -1.4901e+01, -1.5272e+01, -1.1384e+01,\n",
      "         -5.7697e-04, -7.5481e+00, -1.9954e+01, -1.7651e+01, -1.5749e+01,\n",
      "         -1.6195e+01, -1.4502e+01, -1.3779e+01, -1.4043e+01, -1.2253e+01,\n",
      "         -1.2196e+01, -1.3753e+01, -1.1421e+01, -1.5501e+01, -1.4629e+01,\n",
      "         -1.5288e+01, -1.4480e+01, -1.3934e+01, -1.4595e+01, -1.5659e+01,\n",
      "         -1.7188e+01, -1.8355e+01, -1.8555e+01, -1.7806e+01, -1.7055e+01,\n",
      "         -1.6798e+01, -1.8717e+01, -1.5989e+01, -1.3434e+01, -1.3329e+01,\n",
      "         -1.2307e+01, -1.6692e+01, -1.8222e+01, -1.6449e+01, -1.5603e+01,\n",
      "         -1.7890e+01, -1.6575e+01, -1.7301e+01, -1.8086e+01, -1.6580e+01,\n",
      "         -1.4814e+01],\n",
      "        [-8.5914e+00, -1.1354e+01, -8.0013e+00, -8.0522e+00, -8.7750e+00,\n",
      "         -6.4893e+00, -5.9137e-03, -1.5325e+01, -1.2836e+01, -1.1123e+01,\n",
      "         -1.3504e+01, -1.2226e+01, -1.2615e+01, -1.2551e+01, -8.7211e+00,\n",
      "         -8.1360e+00, -1.2630e+01, -5.9637e+00, -1.2269e+01, -1.4046e+01,\n",
      "         -1.2214e+01, -1.1474e+01, -9.3707e+00, -9.6194e+00, -1.4253e+01,\n",
      "         -1.2415e+01, -1.4200e+01, -1.3145e+01, -1.4932e+01, -1.5266e+01,\n",
      "         -1.3439e+01, -1.7210e+01, -1.1304e+01, -1.4798e+01, -1.2566e+01,\n",
      "         -9.2384e+00, -1.3920e+01, -1.4312e+01, -1.5117e+01, -1.1983e+01,\n",
      "         -1.4146e+01, -1.4603e+01, -1.4518e+01, -1.5126e+01, -1.3540e+01,\n",
      "         -1.2350e+01],\n",
      "        [-1.2591e+01, -2.0069e+01, -1.4907e+01, -1.3494e+01, -1.0153e+01,\n",
      "         -1.9096e+01, -1.1302e+01, -6.4850e-05, -1.5888e+01, -2.1402e+01,\n",
      "         -2.0335e+01, -2.1149e+01, -1.6424e+01, -1.8833e+01, -1.7548e+01,\n",
      "         -1.3490e+01, -1.8271e+01, -1.2360e+01, -1.9179e+01, -2.1400e+01,\n",
      "         -1.7090e+01, -1.7498e+01, -2.0606e+01, -1.9437e+01, -1.7441e+01,\n",
      "         -1.3620e+01, -1.9768e+01, -1.9800e+01, -1.7661e+01, -2.0204e+01,\n",
      "         -1.8841e+01, -2.0254e+01, -1.5360e+01, -1.8436e+01, -1.7439e+01,\n",
      "         -1.4548e+01, -2.0544e+01, -2.0076e+01, -2.0165e+01, -1.4742e+01,\n",
      "         -1.7205e+01, -1.9235e+01, -2.0060e+01, -2.0667e+01, -1.8979e+01,\n",
      "         -1.9961e+01],\n",
      "        [-9.7414e+00, -1.7630e+01, -1.2618e+01, -1.0254e+01, -1.0737e+01,\n",
      "         -1.3069e+01, -1.2683e+01, -1.2875e+01, -3.4523e-04, -1.6304e+01,\n",
      "         -1.4194e+01, -1.8241e+01, -1.2884e+01, -1.4225e+01, -1.4438e+01,\n",
      "         -9.1238e+00, -1.2991e+01, -1.6827e+01, -1.7743e+01, -1.5618e+01,\n",
      "         -1.2179e+01, -1.5538e+01, -1.4048e+01, -1.5067e+01, -1.2188e+01,\n",
      "         -1.0871e+01, -1.3555e+01, -1.7848e+01, -1.6921e+01, -1.6418e+01,\n",
      "         -1.7496e+01, -1.8728e+01, -1.0467e+01, -1.4125e+01, -1.6544e+01,\n",
      "         -1.0141e+01, -1.6299e+01, -1.6457e+01, -1.4667e+01, -1.4512e+01,\n",
      "         -1.4229e+01, -1.6081e+01, -1.7244e+01, -1.7926e+01, -1.6488e+01,\n",
      "         -1.5831e+01],\n",
      "        [-1.3467e+01, -1.7149e+01, -1.3320e+01, -1.2501e+01, -1.2148e+01,\n",
      "         -1.4872e+01, -1.4048e+01, -1.4446e+01, -1.2042e+01, -6.0463e-04,\n",
      "         -1.6804e+01, -1.4599e+01, -1.7133e+01, -1.1618e+01, -1.3779e+01,\n",
      "         -1.3965e+01, -1.5558e+01, -7.5547e+00, -1.9117e+01, -1.9310e+01,\n",
      "         -1.2960e+01, -1.5871e+01, -1.4452e+01, -1.1659e+01, -1.7241e+01,\n",
      "         -1.3558e+01, -1.5742e+01, -1.6726e+01, -1.5321e+01, -1.6707e+01,\n",
      "         -1.7167e+01, -1.7553e+01, -1.0989e+01, -1.3212e+01, -1.7535e+01,\n",
      "         -1.1005e+01, -1.6752e+01, -1.7410e+01, -1.6255e+01, -1.5097e+01,\n",
      "         -1.6201e+01, -1.6741e+01, -1.7301e+01, -1.7237e+01, -1.6638e+01,\n",
      "         -1.5802e+01],\n",
      "        [-1.6662e+01, -1.8638e+01, -1.2186e+01, -1.3218e+01, -1.0810e+01,\n",
      "         -1.8951e+01, -1.5795e+01, -4.3869e-05, -1.2428e+01, -1.4764e+01,\n",
      "         -1.7007e+01, -1.7602e+01, -1.4908e+01, -1.8788e+01, -1.9086e+01,\n",
      "         -1.5275e+01, -1.6283e+01, -1.5874e+01, -1.9685e+01, -1.7412e+01,\n",
      "         -1.4977e+01, -1.3487e+01, -2.1517e+01, -1.5935e+01, -1.4693e+01,\n",
      "         -1.4524e+01, -1.7667e+01, -1.9055e+01, -1.6027e+01, -1.9766e+01,\n",
      "         -1.7890e+01, -1.8498e+01, -1.1879e+01, -1.7641e+01, -1.6788e+01,\n",
      "         -1.5654e+01, -1.8071e+01, -1.8905e+01, -1.7613e+01, -1.5685e+01,\n",
      "         -1.6725e+01, -1.6861e+01, -1.8761e+01, -1.8559e+01, -1.6491e+01,\n",
      "         -1.7724e+01],\n",
      "        [-1.3006e+01, -1.7856e+01, -1.0968e+01, -1.3901e+01, -3.1281e-04,\n",
      "         -1.8562e+01, -1.5526e+01, -1.6944e+01, -8.4192e+00, -1.7518e+01,\n",
      "         -1.5657e+01, -1.2841e+01, -1.0793e+01, -1.9351e+01, -1.7108e+01,\n",
      "         -1.2200e+01, -1.7338e+01, -1.1122e+01, -1.8659e+01, -2.1638e+01,\n",
      "         -1.2046e+01, -1.6731e+01, -1.9423e+01, -1.4914e+01, -1.7139e+01,\n",
      "         -1.2736e+01, -1.5359e+01, -1.7786e+01, -1.7482e+01, -1.8702e+01,\n",
      "         -1.7171e+01, -1.6106e+01, -1.1060e+01, -1.6714e+01, -1.7955e+01,\n",
      "         -1.2922e+01, -1.7481e+01, -1.9040e+01, -1.8055e+01, -1.6934e+01,\n",
      "         -1.5971e+01, -1.7388e+01, -1.8729e+01, -1.8897e+01, -1.6299e+01,\n",
      "         -1.6859e+01],\n",
      "        [-1.5263e+01, -1.8448e+01, -1.4744e+01, -1.5864e+01, -1.0855e+01,\n",
      "         -2.0218e+01, -1.9800e+01, -2.2019e+01, -3.2425e-05, -1.5992e+01,\n",
      "         -1.6920e+01, -1.6613e+01, -1.2386e+01, -2.1884e+01, -1.9345e+01,\n",
      "         -1.3613e+01, -2.2824e+01, -1.6038e+01, -1.9569e+01, -1.8403e+01,\n",
      "         -1.5554e+01, -1.9842e+01, -2.2178e+01, -1.7252e+01, -1.6006e+01,\n",
      "         -1.4862e+01, -1.7888e+01, -1.7728e+01, -2.0993e+01, -2.1042e+01,\n",
      "         -1.9550e+01, -1.7958e+01, -1.6672e+01, -1.7742e+01, -2.0860e+01,\n",
      "         -1.2103e+01, -1.9583e+01, -2.0386e+01, -1.7746e+01, -1.9375e+01,\n",
      "         -1.9282e+01, -1.8840e+01, -2.1288e+01, -2.0830e+01, -1.8250e+01,\n",
      "         -1.8735e+01],\n",
      "        [-8.2273e-03, -1.5279e+01, -9.2769e+00, -8.9823e+00, -1.0897e+01,\n",
      "         -1.2262e+01, -1.4704e+01, -1.8964e+01, -4.9157e+00, -1.2893e+01,\n",
      "         -1.4234e+01, -8.5439e+00, -1.4014e+01, -1.7264e+01, -9.2619e+00,\n",
      "         -8.7470e+00, -1.0791e+01, -1.0011e+01, -1.5529e+01, -1.3670e+01,\n",
      "         -1.4012e+01, -1.4716e+01, -1.5126e+01, -1.3197e+01, -1.8210e+01,\n",
      "         -1.1965e+01, -1.2294e+01, -1.5124e+01, -1.6849e+01, -1.4568e+01,\n",
      "         -1.2951e+01, -1.3011e+01, -1.2955e+01, -1.2324e+01, -1.5585e+01,\n",
      "         -9.5768e+00, -1.4793e+01, -1.4962e+01, -1.3790e+01, -1.5624e+01,\n",
      "         -1.5900e+01, -1.5365e+01, -1.5648e+01, -1.6182e+01, -1.3608e+01,\n",
      "         -1.5185e+01],\n",
      "        [-5.4696e+00, -1.2571e+01, -2.6312e-02, -6.2537e+00, -7.9657e+00,\n",
      "         -9.6794e+00, -8.2017e+00, -1.0515e+01, -4.4761e+00, -9.8063e+00,\n",
      "         -1.2039e+01, -6.7018e+00, -6.9040e+00, -1.3337e+01, -6.5006e+00,\n",
      "         -6.3314e+00, -7.6795e+00, -9.4073e+00, -1.2876e+01, -1.3236e+01,\n",
      "         -9.6647e+00, -9.3511e+00, -1.1660e+01, -9.2284e+00, -1.3564e+01,\n",
      "         -9.1597e+00, -1.0862e+01, -1.3286e+01, -1.3423e+01, -1.0997e+01,\n",
      "         -1.1316e+01, -1.0600e+01, -7.3863e+00, -1.0661e+01, -1.2308e+01,\n",
      "         -7.8653e+00, -1.2119e+01, -1.2586e+01, -1.0220e+01, -1.0893e+01,\n",
      "         -1.2847e+01, -1.2088e+01, -1.2794e+01, -1.3314e+01, -9.8381e+00,\n",
      "         -1.1243e+01],\n",
      "        [-1.3546e+01, -2.0086e+01, -1.2171e+01, -1.7721e+01, -1.6623e+01,\n",
      "         -1.6772e+01, -1.6109e+01, -2.1963e+01, -1.4137e+01, -1.6437e+01,\n",
      "         -2.0981e-05, -1.5064e+01, -1.2446e+01, -2.1439e+01, -1.3808e+01,\n",
      "         -1.4730e+01, -1.5539e+01, -1.6380e+01, -1.8124e+01, -1.7141e+01,\n",
      "         -1.4238e+01, -1.8246e+01, -1.5958e+01, -1.3463e+01, -1.5200e+01,\n",
      "         -1.5636e+01, -1.9985e+01, -2.1475e+01, -1.8977e+01, -1.4246e+01,\n",
      "         -1.8312e+01, -1.5721e+01, -1.4426e+01, -1.8458e+01, -1.8846e+01,\n",
      "         -1.3078e+01, -1.8133e+01, -1.6744e+01, -1.4237e+01, -1.8017e+01,\n",
      "         -1.8801e+01, -1.7332e+01, -1.8016e+01, -1.8772e+01, -1.6880e+01,\n",
      "         -1.6906e+01]], device='cuda:0')\n"
     ]
    }
   ],
   "source": [
    "# See what the scores are before training\n",
    "# Note that element i,j of the output is the score for tag j for word i.\n",
    "# Here we don't need to train, so the code is wrapped in torch.no_grad()\n",
    "\n",
    "device = torch.device(\"cuda\" if True else \"cpu\")\n",
    "\n",
    "model = model.to(device)\n",
    "\n",
    "with torch.no_grad():\n",
    "    inputs = prepare_sequence(training_data[0][0], word_to_idx).to(device)\n",
    "    tag_scores = model(inputs)\n",
    "#     print(tag_scores)\n",
    "\n",
    "for epoch in tqdm(range(5)):  # again, normally you would NOT do 300 epochs, it is toy data\n",
    "    for sentence, tags in training_data:\n",
    "        # Step 1. Remember that Pytorch accumulates gradients.\n",
    "        # We need to clear them out before each instance\n",
    "        model.zero_grad()\n",
    "\n",
    "        # Step 2. Get our inputs ready for the network, that is, turn them into\n",
    "        # Tensors of word indices.\n",
    "        sentence_in = prepare_sequence(sentence, word_to_idx).to(device)\n",
    "        targets = prepare_sequence(tags, tag_to_idx).to(device)\n",
    "\n",
    "        # Step 3. Run our forward pass.\n",
    "        tag_scores = model(sentence_in)\n",
    "\n",
    "        # Step 4. Compute the loss, gradients, and update the parameters by\n",
    "        #  calling optimizer.step()\n",
    "        loss = loss_function(tag_scores, targets)\n",
    "        loss.backward()\n",
    "        optimizer.step()\n",
    "\n",
    "# See what the scores are after training\n",
    "with torch.no_grad():\n",
    "    inputs = prepare_sequence(training_data[0][0], word_to_idx).to(device)\n",
    "    tag_scores = model(inputs)\n",
    "\n",
    "    # The sentence is \"the dog ate the apple\".  i,j corresponds to score for tag j\n",
    "    # for word i. The predicted tag is the maximum scoring tag.\n",
    "    # Here, we can see the predicted sequence below is 0 1 2 0 1\n",
    "    # since 0 is index of the maximum value of row 1,\n",
    "    # 1 is the index of maximum value of row 2, etc.\n",
    "    # Which is DET NOUN VERB DET NOUN, the correct sequence!\n",
    "    print(tag_scores)"
   ]
  },
  {
   "cell_type": "code",
   "execution_count": 22,
   "metadata": {},
   "outputs": [
    {
     "name": "stdout",
     "output_type": "stream",
     "text": [
      "torch.Size([18, 46])\n"
     ]
    }
   ],
   "source": [
    "print(tag_scores.shape)"
   ]
  },
  {
   "cell_type": "code",
   "execution_count": null,
   "metadata": {},
   "outputs": [],
   "source": []
  }
 ],
 "metadata": {
  "kernelspec": {
   "display_name": "Python 3",
   "language": "python",
   "name": "python3"
  },
  "language_info": {
   "codemirror_mode": {
    "name": "ipython",
    "version": 3
   },
   "file_extension": ".py",
   "mimetype": "text/x-python",
   "name": "python",
   "nbconvert_exporter": "python",
   "pygments_lexer": "ipython3",
   "version": "3.7.4"
  }
 },
 "nbformat": 4,
 "nbformat_minor": 2
}
